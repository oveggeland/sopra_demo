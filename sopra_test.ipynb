{
  "nbformat": 4,
  "nbformat_minor": 0,
  "metadata": {
    "colab": {
      "name": "sopra_test.ipynb",
      "provenance": [],
      "authorship_tag": "ABX9TyOPJAmHoivnk3Tq/ic833zQ"
    },
    "kernelspec": {
      "name": "python3",
      "display_name": "Python 3"
    },
    "language_info": {
      "name": "python"
    }
  },
  "cells": [
    {
      "cell_type": "markdown",
      "metadata": {
        "id": "1yiIuV2CWp7a"
      },
      "source": [
        "Here we clone the repository.\\\n",
        "You can specify what branch to clone after the -b flag!"
      ]
    },
    {
      "cell_type": "code",
      "metadata": {
        "colab": {
          "base_uri": "https://localhost:8080/"
        },
        "id": "ssk-ypGGUcVo",
        "outputId": "9cc420f4-a9bf-43c0-8679-ac99dffb70cf"
      },
      "source": [
        "!rm -r sopra_demo/\n",
        "# Here you can specify what branch to clone! \n",
        "!git clone -b yolo https://github.com/oveggeland/sopra_demo.git"
      ],
      "execution_count": 16,
      "outputs": [
        {
          "output_type": "stream",
          "text": [
            "Cloning into 'sopra_demo'...\n",
            "remote: Enumerating objects: 98, done.\u001b[K\n",
            "remote: Counting objects:   1% (1/98)\u001b[K\rremote: Counting objects:   2% (2/98)\u001b[K\rremote: Counting objects:   3% (3/98)\u001b[K\rremote: Counting objects:   4% (4/98)\u001b[K\rremote: Counting objects:   5% (5/98)\u001b[K\rremote: Counting objects:   6% (6/98)\u001b[K\rremote: Counting objects:   7% (7/98)\u001b[K\rremote: Counting objects:   8% (8/98)\u001b[K\rremote: Counting objects:   9% (9/98)\u001b[K\rremote: Counting objects:  10% (10/98)\u001b[K\rremote: Counting objects:  11% (11/98)\u001b[K\rremote: Counting objects:  12% (12/98)\u001b[K\rremote: Counting objects:  13% (13/98)\u001b[K\rremote: Counting objects:  14% (14/98)\u001b[K\rremote: Counting objects:  15% (15/98)\u001b[K\rremote: Counting objects:  16% (16/98)\u001b[K\rremote: Counting objects:  17% (17/98)\u001b[K\rremote: Counting objects:  18% (18/98)\u001b[K\rremote: Counting objects:  19% (19/98)\u001b[K\rremote: Counting objects:  20% (20/98)\u001b[K\rremote: Counting objects:  21% (21/98)\u001b[K\rremote: Counting objects:  22% (22/98)\u001b[K\rremote: Counting objects:  23% (23/98)\u001b[K\rremote: Counting objects:  24% (24/98)\u001b[K\rremote: Counting objects:  25% (25/98)\u001b[K\rremote: Counting objects:  26% (26/98)\u001b[K\rremote: Counting objects:  27% (27/98)\u001b[K\rremote: Counting objects:  28% (28/98)\u001b[K\rremote: Counting objects:  29% (29/98)\u001b[K\rremote: Counting objects:  30% (30/98)\u001b[K\rremote: Counting objects:  31% (31/98)\u001b[K\rremote: Counting objects:  32% (32/98)\u001b[K\rremote: Counting objects:  33% (33/98)\u001b[K\rremote: Counting objects:  34% (34/98)\u001b[K\rremote: Counting objects:  35% (35/98)\u001b[K\rremote: Counting objects:  36% (36/98)\u001b[K\rremote: Counting objects:  37% (37/98)\u001b[K\rremote: Counting objects:  38% (38/98)\u001b[K\rremote: Counting objects:  39% (39/98)\u001b[K\rremote: Counting objects:  40% (40/98)\u001b[K\rremote: Counting objects:  41% (41/98)\u001b[K\rremote: Counting objects:  42% (42/98)\u001b[K\rremote: Counting objects:  43% (43/98)\u001b[K\rremote: Counting objects:  44% (44/98)\u001b[K\rremote: Counting objects:  45% (45/98)\u001b[K\rremote: Counting objects:  46% (46/98)\u001b[K\rremote: Counting objects:  47% (47/98)\u001b[K\rremote: Counting objects:  48% (48/98)\u001b[K\rremote: Counting objects:  50% (49/98)\u001b[K\rremote: Counting objects:  51% (50/98)\u001b[K\rremote: Counting objects:  52% (51/98)\u001b[K\rremote: Counting objects:  53% (52/98)\u001b[K\rremote: Counting objects:  54% (53/98)\u001b[K\rremote: Counting objects:  55% (54/98)\u001b[K\rremote: Counting objects:  56% (55/98)\u001b[K\rremote: Counting objects:  57% (56/98)\u001b[K\rremote: Counting objects:  58% (57/98)\u001b[K\rremote: Counting objects:  59% (58/98)\u001b[K\rremote: Counting objects:  60% (59/98)\u001b[K\rremote: Counting objects:  61% (60/98)\u001b[K\rremote: Counting objects:  62% (61/98)\u001b[K\rremote: Counting objects:  63% (62/98)\u001b[K\rremote: Counting objects:  64% (63/98)\u001b[K\rremote: Counting objects:  65% (64/98)\u001b[K\rremote: Counting objects:  66% (65/98)\u001b[K\rremote: Counting objects:  67% (66/98)\u001b[K\rremote: Counting objects:  68% (67/98)\u001b[K\rremote: Counting objects:  69% (68/98)\u001b[K\rremote: Counting objects:  70% (69/98)\u001b[K\rremote: Counting objects:  71% (70/98)\u001b[K\rremote: Counting objects:  72% (71/98)\u001b[K\rremote: Counting objects:  73% (72/98)\u001b[K\rremote: Counting objects:  74% (73/98)\u001b[K\rremote: Counting objects:  75% (74/98)\u001b[K\rremote: Counting objects:  76% (75/98)\u001b[K\rremote: Counting objects:  77% (76/98)\u001b[K\rremote: Counting objects:  78% (77/98)\u001b[K\rremote: Counting objects:  79% (78/98)\u001b[K\rremote: Counting objects:  80% (79/98)\u001b[K\rremote: Counting objects:  81% (80/98)\u001b[K\rremote: Counting objects:  82% (81/98)\u001b[K\rremote: Counting objects:  83% (82/98)\u001b[K\rremote: Counting objects:  84% (83/98)\u001b[K\rremote: Counting objects:  85% (84/98)\u001b[K\rremote: Counting objects:  86% (85/98)\u001b[K\rremote: Counting objects:  87% (86/98)\u001b[K\rremote: Counting objects:  88% (87/98)\u001b[K\rremote: Counting objects:  89% (88/98)\u001b[K\rremote: Counting objects:  90% (89/98)\u001b[K\rremote: Counting objects:  91% (90/98)\u001b[K\rremote: Counting objects:  92% (91/98)\u001b[K\rremote: Counting objects:  93% (92/98)\u001b[K\rremote: Counting objects:  94% (93/98)\u001b[K\rremote: Counting objects:  95% (94/98)\u001b[K\rremote: Counting objects:  96% (95/98)\u001b[K\rremote: Counting objects:  97% (96/98)\u001b[K\rremote: Counting objects:  98% (97/98)\u001b[K\rremote: Counting objects: 100% (98/98)\u001b[K\rremote: Counting objects: 100% (98/98), done.\u001b[K\n",
            "remote: Compressing objects: 100% (70/70), done.\u001b[K\n",
            "remote: Total 98 (delta 36), reused 85 (delta 25), pack-reused 0\u001b[K\n",
            "Unpacking objects: 100% (98/98), done.\n",
            "hei.txt  sample_data  sopra_demo\n",
            "hei.txt  sample_data  sopra_demo\n"
          ],
          "name": "stdout"
        }
      ]
    },
    {
      "cell_type": "markdown",
      "metadata": {
        "id": "sOqJkCO-W968"
      },
      "source": [
        "Run this to add, commit and push to git"
      ]
    },
    {
      "cell_type": "code",
      "metadata": {
        "colab": {
          "base_uri": "https://localhost:8080/"
        },
        "id": "VC789TvpWoCt",
        "outputId": "4971f707-aad3-4897-da55-096def07b54e"
      },
      "source": [
        "!python sopra_demo/test.py"
      ],
      "execution_count": 18,
      "outputs": [
        {
          "output_type": "stream",
          "text": [
            "2\n",
            "test complete\n",
            "rm: cannot remove 'hei.txt': No such file or directory\n"
          ],
          "name": "stdout"
        }
      ]
    }
  ]
}